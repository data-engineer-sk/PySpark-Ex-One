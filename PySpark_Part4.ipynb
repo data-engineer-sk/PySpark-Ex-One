{
 "cells": [
  {
   "cell_type": "markdown",
   "id": "71457fe8",
   "metadata": {},
   "source": [
    "# Lesson Four : Apply Filter in Pyspark\n",
    "### By Samuel Ko"
   ]
  },
  {
   "cell_type": "code",
   "execution_count": 15,
   "id": "3c4420c0",
   "metadata": {},
   "outputs": [],
   "source": [
    "# Pyspark Dataframe\n",
    "# - Filter Operation\n",
    "# - &,|,==\n",
    "# - ~"
   ]
  },
  {
   "cell_type": "code",
   "execution_count": 16,
   "id": "afe941f8",
   "metadata": {},
   "outputs": [],
   "source": [
    "from pyspark.sql import SparkSession"
   ]
  },
  {
   "cell_type": "code",
   "execution_count": 17,
   "id": "570c4e29",
   "metadata": {},
   "outputs": [],
   "source": [
    "# Create a spark session (spark is a variable)\n",
    "# for operation\n",
    "spark=SparkSession.builder.appName('Spark_SQL').getOrCreate()"
   ]
  },
  {
   "cell_type": "code",
   "execution_count": 18,
   "id": "c83e2e93",
   "metadata": {},
   "outputs": [
    {
     "data": {
      "text/html": [
       "\n",
       "            <div>\n",
       "                <p><b>SparkSession - in-memory</b></p>\n",
       "                \n",
       "        <div>\n",
       "            <p><b>SparkContext</b></p>\n",
       "\n",
       "            <p><a href=\"http://172.16.2.85:4041\">Spark UI</a></p>\n",
       "\n",
       "            <dl>\n",
       "              <dt>Version</dt>\n",
       "                <dd><code>v3.3.1</code></dd>\n",
       "              <dt>Master</dt>\n",
       "                <dd><code>local[*]</code></dd>\n",
       "              <dt>AppName</dt>\n",
       "                <dd><code>Spark_SQL</code></dd>\n",
       "            </dl>\n",
       "        </div>\n",
       "        \n",
       "            </div>\n",
       "        "
      ],
      "text/plain": [
       "<pyspark.sql.session.SparkSession at 0x11155bf40>"
      ]
     },
     "execution_count": 18,
     "metadata": {},
     "output_type": "execute_result"
    }
   ],
   "source": [
    "spark"
   ]
  },
  {
   "cell_type": "code",
   "execution_count": 19,
   "id": "01ffe275",
   "metadata": {},
   "outputs": [],
   "source": [
    "df_pyspark=spark.read.csv('test4.csv', header=True, inferSchema=True)"
   ]
  },
  {
   "cell_type": "code",
   "execution_count": 20,
   "id": "2a74fe57",
   "metadata": {},
   "outputs": [
    {
     "name": "stdout",
     "output_type": "stream",
     "text": [
      "+---------------+---+-------------------+----------+------+\n",
      "|           Name|Age|      Qualification|Experience|Salary|\n",
      "+---------------+---+-------------------+----------+------+\n",
      "| Kennith Kawaki| 33|            Diploma|         7| 49000|\n",
      "|    Sudans Wong| 31|         Apprentice|         6| 40000|\n",
      "|    Polly Combo| 27|            Diploma|         4| 35000|\n",
      "| Desmond Cheung| 51|University Graduate|        22| 88000|\n",
      "|      Chariotte| 35|            Diploma|         8| 61000|\n",
      "|         Sophia| 24|         Apprentice|         3| 30000|\n",
      "|Johnson Kawaksy| 25|            Diploma|         3| 28000|\n",
      "|   George Woody| 31|University Graduate|         7| 47000|\n",
      "|     Pansy Rose| 33|         Apprentice|        10| 65000|\n",
      "|           John| 17|         Apprentice|         1| 24300|\n",
      "|          Peter| 45|University Graduate|        18| 81000|\n",
      "|          David| 42|University Graduate|        15| 76000|\n",
      "|         Usamha| 28|            Diploma|         4| 33000|\n",
      "|     Zain Amjun| 34|         Apprentice|      null| 55000|\n",
      "|   May Mackency| 29|            Diploma|         5| 39000|\n",
      "|  Edwards Colin| 26|         Apprentice|         3| 31000|\n",
      "|   Megan Guydry| 35|University Graduate|        12| 72000|\n",
      "| Raymon Almeida| 25|            Diploma|         2| 26500|\n",
      "+---------------+---+-------------------+----------+------+\n",
      "\n"
     ]
    }
   ],
   "source": [
    "df_pyspark.show()"
   ]
  },
  {
   "cell_type": "code",
   "execution_count": 21,
   "id": "fad52d13",
   "metadata": {
    "scrolled": true
   },
   "outputs": [
    {
     "name": "stdout",
     "output_type": "stream",
     "text": [
      "+---------------+---+-------------+----------+------+\n",
      "|           Name|Age|Qualification|Experience|Salary|\n",
      "+---------------+---+-------------+----------+------+\n",
      "|         Sophia| 24|   Apprentice|         3| 30000|\n",
      "|Johnson Kawaksy| 25|      Diploma|         3| 28000|\n",
      "|           John| 17|   Apprentice|         1| 24300|\n",
      "|         Usamha| 28|      Diploma|         4| 33000|\n",
      "|  Edwards Colin| 26|   Apprentice|         3| 31000|\n",
      "| Raymon Almeida| 25|      Diploma|         2| 26500|\n",
      "+---------------+---+-------------+----------+------+\n",
      "\n"
     ]
    }
   ],
   "source": [
    "# Filter the people whose salary has less than 35000\n",
    "df_pyspark.filter(\"Salary<35000\").show()"
   ]
  },
  {
   "cell_type": "code",
   "execution_count": 22,
   "id": "b9ec44c2",
   "metadata": {
    "scrolled": false
   },
   "outputs": [
    {
     "name": "stdout",
     "output_type": "stream",
     "text": [
      "+----------+------+-------------------+\n",
      "|Experience|Salary|      Qualification|\n",
      "+----------+------+-------------------+\n",
      "|        22| 88000|University Graduate|\n",
      "|        18| 81000|University Graduate|\n",
      "|        15| 76000|University Graduate|\n",
      "|        12| 72000|University Graduate|\n",
      "+----------+------+-------------------+\n",
      "\n"
     ]
    }
   ],
   "source": [
    "# Filter out the year of Experience which salary has greater than 65000\n",
    "df_pyspark.filter(\"Salary>65000\").select(['Experience','Salary','Qualification']).show()"
   ]
  },
  {
   "cell_type": "code",
   "execution_count": 23,
   "id": "38bc26f0",
   "metadata": {},
   "outputs": [
    {
     "name": "stdout",
     "output_type": "stream",
     "text": [
      "+---------------+---+-------------------+----------+------+\n",
      "|           Name|Age|      Qualification|Experience|Salary|\n",
      "+---------------+---+-------------------+----------+------+\n",
      "| Kennith Kawaki| 33|            Diploma|         7| 49000|\n",
      "|    Sudans Wong| 31|         Apprentice|         6| 40000|\n",
      "|    Polly Combo| 27|            Diploma|         4| 35000|\n",
      "| Desmond Cheung| 51|University Graduate|        22| 88000|\n",
      "|      Chariotte| 35|            Diploma|         8| 61000|\n",
      "|         Sophia| 24|         Apprentice|         3| 30000|\n",
      "|Johnson Kawaksy| 25|            Diploma|         3| 28000|\n",
      "|   George Woody| 31|University Graduate|         7| 47000|\n",
      "|     Pansy Rose| 33|         Apprentice|        10| 65000|\n",
      "|           John| 17|         Apprentice|         1| 24300|\n",
      "|          Peter| 45|University Graduate|        18| 81000|\n",
      "|          David| 42|University Graduate|        15| 76000|\n",
      "|         Usamha| 28|            Diploma|         4| 33000|\n",
      "|     Zain Amjun| 34|         Apprentice|      null| 55000|\n",
      "|   May Mackency| 29|            Diploma|         5| 39000|\n",
      "|  Edwards Colin| 26|         Apprentice|         3| 31000|\n",
      "|   Megan Guydry| 35|University Graduate|        12| 72000|\n",
      "| Raymon Almeida| 25|            Diploma|         2| 26500|\n",
      "+---------------+---+-------------------+----------+------+\n",
      "\n"
     ]
    }
   ],
   "source": [
    "# Show all record here first, then filter again\n",
    "df_pyspark.show()"
   ]
  },
  {
   "cell_type": "code",
   "execution_count": 24,
   "id": "f9f16043",
   "metadata": {
    "scrolled": true
   },
   "outputs": [
    {
     "name": "stdout",
     "output_type": "stream",
     "text": [
      "+-------------+------+----------+\n",
      "|Qualification|Salary|Experience|\n",
      "+-------------+------+----------+\n",
      "|   Apprentice| 40000|         6|\n",
      "|      Diploma| 35000|         4|\n",
      "|   Apprentice| 30000|         3|\n",
      "|      Diploma| 28000|         3|\n",
      "|   Apprentice| 24300|         1|\n",
      "|      Diploma| 33000|         4|\n",
      "|      Diploma| 39000|         5|\n",
      "|   Apprentice| 31000|         3|\n",
      "|      Diploma| 26500|         2|\n",
      "+-------------+------+----------+\n",
      "\n"
     ]
    }
   ],
   "source": [
    "# Filter out the person whose salary less than 25000\n",
    "# and Year of Experience less than 7 years\n",
    "# Display columns in sequence 'Name','Salary','Experience'\n",
    "df_pyspark.filter((df_pyspark['Salary']<75000) & \n",
    "                  (df_pyspark['Experience']<7)).select(['Qualification','Salary','Experience']).show()"
   ]
  },
  {
   "cell_type": "code",
   "execution_count": 25,
   "id": "57f8941b",
   "metadata": {
    "scrolled": true
   },
   "outputs": [
    {
     "name": "stdout",
     "output_type": "stream",
     "text": [
      "+---------------+------+----------+\n",
      "|           Name|Salary|Experience|\n",
      "+---------------+------+----------+\n",
      "|    Sudans Wong| 40000|         6|\n",
      "|    Polly Combo| 35000|         4|\n",
      "|         Sophia| 30000|         3|\n",
      "|Johnson Kawaksy| 28000|         3|\n",
      "|           John| 24300|         1|\n",
      "|         Usamha| 33000|         4|\n",
      "|   May Mackency| 39000|         5|\n",
      "|  Edwards Colin| 31000|         3|\n",
      "| Raymon Almeida| 26500|         2|\n",
      "+---------------+------+----------+\n",
      "\n"
     ]
    }
   ],
   "source": [
    "# also can be filter complement result whose\n",
    "# 'Salary' not greater 45000 and 'Experience' not >= 6\n",
    "df_pyspark.filter(~((df_pyspark['Salary']>45000) & (df_pyspark['Experience']>=6))).select(['Name','Salary','Experience']).show()"
   ]
  },
  {
   "cell_type": "code",
   "execution_count": null,
   "id": "3a141cb2",
   "metadata": {},
   "outputs": [],
   "source": []
  }
 ],
 "metadata": {
  "kernelspec": {
   "display_name": "Python 3 (ipykernel)",
   "language": "python",
   "name": "python3"
  },
  "language_info": {
   "codemirror_mode": {
    "name": "ipython",
    "version": 3
   },
   "file_extension": ".py",
   "mimetype": "text/x-python",
   "name": "python",
   "nbconvert_exporter": "python",
   "pygments_lexer": "ipython3",
   "version": "3.10.8"
  }
 },
 "nbformat": 4,
 "nbformat_minor": 5
}
